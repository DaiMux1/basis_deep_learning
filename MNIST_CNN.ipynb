{
  "nbformat": 4,
  "nbformat_minor": 0,
  "metadata": {
    "colab": {
      "name": "MNIST_CNN.ipynb",
      "provenance": [],
      "mount_file_id": "19-JN5YKghAz55V5DmzngcLMkNkEtlSSQ",
      "authorship_tag": "ABX9TyO7zRor1Y4jMb9mUfg2krQF",
      "include_colab_link": true
    },
    "kernelspec": {
      "name": "python3",
      "display_name": "Python 3"
    },
    "language_info": {
      "name": "python"
    },
    "accelerator": "GPU"
  },
  "cells": [
    {
      "cell_type": "markdown",
      "metadata": {
        "id": "view-in-github",
        "colab_type": "text"
      },
      "source": [
        "<a href=\"https://colab.research.google.com/github/dai02012000/LinearPredictQualityWine/blob/main/MNIST_CNN.ipynb\" target=\"_parent\"><img src=\"https://colab.research.google.com/assets/colab-badge.svg\" alt=\"Open In Colab\"/></a>"
      ]
    },
    {
      "cell_type": "code",
      "metadata": {
        "id": "H0b8dh8N7WtJ"
      },
      "source": [
        "import torch \n",
        "import torchvision\n",
        "import numpy as np"
      ],
      "execution_count": 1,
      "outputs": []
    },
    {
      "cell_type": "code",
      "metadata": {
        "colab": {
          "base_uri": "https://localhost:8080/"
        },
        "id": "LK_RhmPZ7iKA",
        "outputId": "45eeb3ec-e526-416a-dc19-705ed96b4595"
      },
      "source": [
        "n_epochs = 3\n",
        "batch_size_train = 64\n",
        "batch_size_test = 1000\n",
        "learning_rate = 0.01\n",
        "momentum = 0.5\n",
        "log_interval = 10\n",
        "\n",
        "random_seed = 1\n",
        "torch.backends.cudnn.enabled = False # cho kết quả mỗi lần chạy giống nhau \n",
        "torch.manual_seed(random_seed)"
      ],
      "execution_count": 2,
      "outputs": [
        {
          "output_type": "execute_result",
          "data": {
            "text/plain": [
              "<torch._C.Generator at 0x7f15f9bdd070>"
            ]
          },
          "metadata": {
            "tags": []
          },
          "execution_count": 2
        }
      ]
    },
    {
      "cell_type": "code",
      "metadata": {
        "id": "jnwKzOSd4Tx0"
      },
      "source": [
        "# load data into numpy\n",
        "\n",
        "from mlxtend.data import loadlocal_mnist\n",
        "\n",
        "train_data, train_target = loadlocal_mnist(\n",
        "    images_path='/content/drive/MyDrive/Colab Notebooks/MNIST/raw/train-images-idx3-ubyte',\n",
        "    labels_path='/content/drive/MyDrive/Colab Notebooks/MNIST/raw/train-labels-idx1-ubyte'\n",
        ")\n",
        "test_data, test_target = loadlocal_mnist(\n",
        "    images_path='/content/drive/MyDrive/Colab Notebooks/MNIST/raw/t10k-images-idx3-ubyte',\n",
        "    labels_path='/content/drive/MyDrive/Colab Notebooks/MNIST/raw/t10k-labels-idx1-ubyte'\n",
        ")\n"
      ],
      "execution_count": 3,
      "outputs": []
    },
    {
      "cell_type": "code",
      "metadata": {
        "colab": {
          "base_uri": "https://localhost:8080/"
        },
        "id": "NzTep4Phj4cf",
        "outputId": "1258b407-47af-483b-8dfb-031d13fcbb88"
      },
      "source": [
        "train_data.shape, train_target.shape, test_data.shape, test_target.shape"
      ],
      "execution_count": 4,
      "outputs": [
        {
          "output_type": "execute_result",
          "data": {
            "text/plain": [
              "((60000, 784), (60000,), (10000, 784), (10000,))"
            ]
          },
          "metadata": {
            "tags": []
          },
          "execution_count": 4
        }
      ]
    },
    {
      "cell_type": "code",
      "metadata": {
        "colab": {
          "base_uri": "https://localhost:8080/"
        },
        "id": "1ZSFqp_XoJc_",
        "outputId": "576eb648-b82f-43d4-c725-cbe6fc8923c2"
      },
      "source": [
        "# chuyển về torch và đúng shape\n",
        "train_data = torch.from_numpy(train_data).to(torch.float32)\n",
        "train_target = torch.from_numpy(train_target).type(torch.LongTensor)\n",
        "test_data = torch.from_numpy(test_data).to(torch.float32)\n",
        "test_target = torch.from_numpy(test_target).type(torch.LongTensor)\n",
        "\n",
        "train_data = train_data.view(-1 ,1, 28, 28)\n",
        "test_data = test_data.view( -1,1, 28, 28)\n",
        "\n",
        "train_data.type(), test_data.shape"
      ],
      "execution_count": 5,
      "outputs": [
        {
          "output_type": "execute_result",
          "data": {
            "text/plain": [
              "('torch.FloatTensor', torch.Size([10000, 1, 28, 28]))"
            ]
          },
          "metadata": {
            "tags": []
          },
          "execution_count": 5
        }
      ]
    },
    {
      "cell_type": "code",
      "metadata": {
        "colab": {
          "base_uri": "https://localhost:8080/",
          "height": 45
        },
        "id": "dpCfoggTutw7",
        "outputId": "f59814c2-b2eb-47ba-f5cf-33ba281ad255"
      },
      "source": [
        "from google.colab.patches import cv2_imshow \n",
        "import numpy as np\n",
        "\n",
        "cv2_imshow(np.array(train_data[1].permute(1, 2, 0)))"
      ],
      "execution_count": 6,
      "outputs": [
        {
          "output_type": "display_data",
          "data": {
            "image/png": "[encoded data removed]",
            "text/plain": [
              "<PIL.Image.Image image mode=RGB size=28x28 at 0x7F15F6A40410>"
            ]
          },
          "metadata": {
            "tags": []
          }
        }
      ]
    },
    {
      "cell_type": "code",
      "metadata": {
        "id": "g5HaFBsCxVlT"
      },
      "source": [
        "#normalized\n",
        "train_data /= 255.\n",
        "test_data /= 255.\n",
        "\n",
        "\n",
        "train_data = (train_data - 0.1307)/0.3081\n",
        "test_data = (test_data - 0.1307)/0.3081"
      ],
      "execution_count": 7,
      "outputs": []
    },
    {
      "cell_type": "code",
      "metadata": {
        "id": "Ee_ipb4ylIkz"
      },
      "source": [
        "batch_size = 64\n",
        "\n",
        "iter_train = int(train_data.shape[0]/batch_size)\n",
        "train_loader = []\n",
        "for i in range(1, iter_train+2):\n",
        "  data = train_data[(i-1)*batch_size : i*batch_size]\n",
        "  target =  train_target[(i-1)*batch_size : i*batch_size]\n",
        "  ex = [data, target]\n",
        "  train_loader.append(ex)\n",
        "\n",
        "iter_test = int(test_data.shape[0]/batch_size)\n",
        "test_loader = []\n",
        "for i in range(1, iter_test):\n",
        "  data = test_data[(i-1)*batch_size : i*batch_size]\n",
        "  target =  test_target[(i-1)*batch_size : i*batch_size]\n",
        "  ex = [data, target]\n",
        "  test_loader.append(ex)\n",
        "\n"
      ],
      "execution_count": 8,
      "outputs": []
    },
    {
      "cell_type": "code",
      "metadata": {
        "colab": {
          "base_uri": "https://localhost:8080/"
        },
        "id": "4gMF4jnGqd2-",
        "outputId": "2270c69d-db5b-44b1-ed53-31b724cf4cdb"
      },
      "source": [
        "examples = enumerate(train_loader)\n",
        "batch_idx, (example_data, example_targets) = next(examples)\n",
        "\n",
        "example_data.type(), example_targets.type()"
      ],
      "execution_count": 9,
      "outputs": [
        {
          "output_type": "execute_result",
          "data": {
            "text/plain": [
              "('torch.FloatTensor', 'torch.LongTensor')"
            ]
          },
          "metadata": {
            "tags": []
          },
          "execution_count": 9
        }
      ]
    },
    {
      "cell_type": "code",
      "metadata": {
        "colab": {
          "base_uri": "https://localhost:8080/",
          "height": 551
        },
        "id": "KvbDVP8jG24g",
        "outputId": "7b4ec9f2-acdb-4fa1-d021-1a887c1fb652"
      },
      "source": [
        "import matplotlib.pyplot as plt\n",
        "\n",
        "fig = plt.figure()\n",
        "for i in range(6):\n",
        "  plt.subplot(2, 3, i+1)\n",
        "  plt.tight_layout()\n",
        "  plt.imshow(example_data[i][0], cmap='gray', interpolation='none')\n",
        "  plt.title('Ground Truth: {} '.format(example_targets[i]))\n",
        "  plt.xticks([])\n",
        "  plt.yticks([])\n",
        "fig"
      ],
      "execution_count": 84,
      "outputs": [
        {
          "output_type": "execute_result",
          "data": {
            "image/png": "[encoded data removed]",
            "text/plain": [
              "<Figure size 432x288 with 6 Axes>"
            ]
          },
          "metadata": {
            "tags": []
          },
          "execution_count": 84
        },
        {
          "output_type": "display_data",
          "data": {
            "image/png": "[encoded data removed]",
            "text/plain": [
              "<Figure size 432x288 with 6 Axes>"
            ]
          },
          "metadata": {
            "tags": []
          }
        }
      ]
    },
    {
      "cell_type": "code",
      "metadata": {
        "id": "xG5AEJxtH5FL"
      },
      "source": [
        "import torch.nn as nn\n",
        "import torch.nn.functional as F\n",
        "import torch.optim as optim"
      ],
      "execution_count": 10,
      "outputs": []
    },
    {
      "cell_type": "code",
      "metadata": {
        "colab": {
          "base_uri": "https://localhost:8080/"
        },
        "id": "Cf6Yxua-JWab",
        "outputId": "e1bffd83-2cfa-451a-9f83-9a348fc9b83f"
      },
      "source": [
        "m = nn.Dropout(p = 0.4)\n",
        "input = torch.ones(2,5)\n",
        "m(input)"
      ],
      "execution_count": 111,
      "outputs": [
        {
          "output_type": "execute_result",
          "data": {
            "text/plain": [
              "tensor([[1.6667, 0.0000, 0.0000, 1.6667, 1.6667],\n",
              "        [0.0000, 0.0000, 0.0000, 1.6667, 0.0000]])"
            ]
          },
          "metadata": {
            "tags": []
          },
          "execution_count": 111
        }
      ]
    },
    {
      "cell_type": "code",
      "metadata": {
        "id": "jvWmOdE8YRcm"
      },
      "source": [
        "class Net(nn.Module):\n",
        "  def __init__(self):\n",
        "    super(Net, self).__init__()\n",
        "    self.conv1 = nn.Conv2d(in_channels=1, out_channels=32, kernel_size=3, padding=1)\n",
        "    self.conv2 = nn.Conv2d(in_channels=32, out_channels=32, kernel_size=3, padding=1)\n",
        "    self.dropout1 = nn.Dropout(0.25)\n",
        "    self.dropout2 = nn.Dropout(0.5)\n",
        "    self.fc1 = nn.Linear(32*14*14, 128)\n",
        "    self.fc2 = nn.Linear(128, 10)\n",
        "\n",
        "  def forward(self, x):\n",
        "    x = self.conv1(x)\n",
        "    x = F.relu(x)\n",
        "    x = self.conv2(x)\n",
        "    x = F.relu(x)\n",
        "    x = F.max_pool2d(x, 2) # giảm chiều dài và rộng đi 1 nửa\n",
        "    x = self.dropout1(x)\n",
        "    # Flatten(làm phẳng) về dạng vector \n",
        "    x = torch.flatten(x, 1)\n",
        "    x = self.fc1(x)\n",
        "    x = F.relu(x)\n",
        "    x = self.dropout2(x)\n",
        "    x = self.fc2(x)\n",
        "    output = F.log_softmax(x, dim = 1)\n",
        "    return output\n"
      ],
      "execution_count": 11,
      "outputs": []
    },
    {
      "cell_type": "code",
      "metadata": {
        "id": "Sh8QCa5Asa_t"
      },
      "source": [
        "train_losses = []\n",
        "train_counter = []\n",
        "test_losses = []\n",
        "test_counter = [i*len(train_loader) for i in range(n_epochs + 1)]"
      ],
      "execution_count": 113,
      "outputs": []
    },
    {
      "cell_type": "code",
      "metadata": {
        "id": "JIyab0o7f2a6"
      },
      "source": [
        "def train(model, device, train_loader, optimizer, epoch):\n",
        "  model.train()\n",
        "  for batch_idx,  (data, target) in enumerate(train_loader):\n",
        "    data, target = data.to(device), target.to(device)\n",
        "    optimizer.zero_grad()\n",
        "    output = model(data)\n",
        "    loss = F.nll_loss(output, target)\n",
        "    loss.backward()\n",
        "    optimizer.step()\n",
        "    if batch_idx % 10 == 0:\n",
        "      print(\"Train Epoch: {} [{}/{}] \\tLoss: {:.6f} \".format(\n",
        "          epoch, batch_idx , len(train_loader), loss.item()\n",
        "      ))\n",
        "      # train_losses.append(loss.item()) # luu lại các loss để  visual\n",
        "      # train_counter.append((batch_idx*64)+((epoch-1)*len(train_loader.dataset)))\n",
        "\n",
        "      torch.save(model.state_dict(), '/content/drive/MyDrive/Colab Notebooks/model.pth')\n",
        "      torch.save(optimizer.state_dict, '/content/drive/MyDrive/Colab Notebooks/optimizer.pth')"
      ],
      "execution_count": 17,
      "outputs": []
    },
    {
      "cell_type": "code",
      "metadata": {
        "id": "ERur2ieRoh6F"
      },
      "source": [
        "def test(model, device, test_loader):\n",
        "  model.eval()\n",
        "  test_loss = 0\n",
        "  correct = 0\n",
        "  with torch.no_grad():\n",
        "    for data, target in test_loader:\n",
        "      data, target = data.to(device), target.to(device)\n",
        "      output = model(data)\n",
        "      test_loss += F.nll_loss(output, target, reduction='sum').item() # sum up batch loss\n",
        "      pred = output.argmax(dim=1, keepdim=True) # lấy chỉ sổ\n",
        "      correct += pred.eq(target.view_as(pred)).sum().item()\n",
        "  # test_loss /= len(test_loader.dataset)\n",
        "  # test_losses.append(test_loss)\n",
        "  print('\\nTest set: Average loss: {:.4f}, Accuracy: {}/{} ({:.0f}%)\\n'.format(\n",
        "        test_loss, correct, len(test_loader)*batch_size,\n",
        "        100. * correct / (len(test_loader)*batch_size)))"
      ],
      "execution_count": 18,
      "outputs": []
    },
    {
      "cell_type": "code",
      "metadata": {
        "id": "SMVx7lWvPCye"
      },
      "source": [
        ""
      ],
      "execution_count": 90,
      "outputs": []
    },
    {
      "cell_type": "code",
      "metadata": {
        "colab": {
          "base_uri": "https://localhost:8080/"
        },
        "id": "9C2W0UgUkBNA",
        "outputId": "70640a18-1186-4312-9ce3-0582308426ed"
      },
      "source": [
        "use_cuda =torch.cuda.is_available()\n",
        "device = torch.device('cuda'if use_cuda else 'cpu')\n",
        "device"
      ],
      "execution_count": 15,
      "outputs": [
        {
          "output_type": "execute_result",
          "data": {
            "text/plain": [
              "device(type='cuda')"
            ]
          },
          "metadata": {
            "tags": []
          },
          "execution_count": 15
        }
      ]
    },
    {
      "cell_type": "code",
      "metadata": {
        "id": "0tXknPR_mTiG",
        "colab": {
          "base_uri": "https://localhost:8080/"
        },
        "outputId": "acf5b105-c7b7-487b-de72-d32bc50fdaa6"
      },
      "source": [
        "net = Net().to(device)\n",
        "optimizer = optim.Adam(net.parameters(), lr = 0.001)\n",
        "\n",
        "for epoch in range(1, n_epochs):\n",
        "  train(net, device, train_loader, optimizer, epoch)\n",
        "  test(net, device, test_loader)"
      ],
      "execution_count": 19,
      "outputs": [
        {
          "output_type": "stream",
          "text": [
            "Train Epoch: 1 [0/938] \tLoss: 2.308214 \n",
            "Train Epoch: 1 [10/938] \tLoss: 1.357754 \n",
            "Train Epoch: 1 [20/938] \tLoss: 0.801644 \n",
            "Train Epoch: 1 [30/938] \tLoss: 0.614631 \n",
            "Train Epoch: 1 [40/938] \tLoss: 0.386379 \n",
            "Train Epoch: 1 [50/938] \tLoss: 0.625054 \n",
            "Train Epoch: 1 [60/938] \tLoss: 0.474294 \n",
            "Train Epoch: 1 [70/938] \tLoss: 0.333200 \n",
            "Train Epoch: 1 [80/938] \tLoss: 0.607447 \n",
            "Train Epoch: 1 [90/938] \tLoss: 0.350618 \n",
            "Train Epoch: 1 [100/938] \tLoss: 0.368562 \n",
            "Train Epoch: 1 [110/938] \tLoss: 0.273252 \n",
            "Train Epoch: 1 [120/938] \tLoss: 0.338365 \n",
            "Train Epoch: 1 [130/938] \tLoss: 0.113435 \n",
            "Train Epoch: 1 [140/938] \tLoss: 0.256971 \n",
            "Train Epoch: 1 [150/938] \tLoss: 0.503287 \n",
            "Train Epoch: 1 [160/938] \tLoss: 0.563718 \n",
            "Train Epoch: 1 [170/938] \tLoss: 0.143343 \n",
            "Train Epoch: 1 [180/938] \tLoss: 0.446549 \n",
            "Train Epoch: 1 [190/938] \tLoss: 0.319343 \n",
            "Train Epoch: 1 [200/938] \tLoss: 0.237151 \n",
            "Train Epoch: 1 [210/938] \tLoss: 0.223107 \n",
            "Train Epoch: 1 [220/938] \tLoss: 0.250897 \n",
            "Train Epoch: 1 [230/938] \tLoss: 0.428674 \n",
            "Train Epoch: 1 [240/938] \tLoss: 0.257562 \n",
            "Train Epoch: 1 [250/938] \tLoss: 0.353729 \n",
            "Train Epoch: 1 [260/938] \tLoss: 0.223685 \n",
            "Train Epoch: 1 [270/938] \tLoss: 0.087593 \n",
            "Train Epoch: 1 [280/938] \tLoss: 0.125804 \n",
            "Train Epoch: 1 [290/938] \tLoss: 0.284126 \n",
            "Train Epoch: 1 [300/938] \tLoss: 0.205419 \n",
            "Train Epoch: 1 [310/938] \tLoss: 0.100640 \n",
            "Train Epoch: 1 [320/938] \tLoss: 0.085946 \n",
            "Train Epoch: 1 [330/938] \tLoss: 0.158664 \n",
            "Train Epoch: 1 [340/938] \tLoss: 0.029327 \n",
            "Train Epoch: 1 [350/938] \tLoss: 0.103140 \n",
            "Train Epoch: 1 [360/938] \tLoss: 0.163903 \n",
            "Train Epoch: 1 [370/938] \tLoss: 0.227369 \n",
            "Train Epoch: 1 [380/938] \tLoss: 0.063667 \n",
            "Train Epoch: 1 [390/938] \tLoss: 0.150293 \n",
            "Train Epoch: 1 [400/938] \tLoss: 0.045791 \n",
            "Train Epoch: 1 [410/938] \tLoss: 0.210740 \n",
            "Train Epoch: 1 [420/938] \tLoss: 0.296625 \n",
            "Train Epoch: 1 [430/938] \tLoss: 0.151332 \n",
            "Train Epoch: 1 [440/938] \tLoss: 0.255043 \n",
            "Train Epoch: 1 [450/938] \tLoss: 0.174038 \n",
            "Train Epoch: 1 [460/938] \tLoss: 0.089432 \n",
            "Train Epoch: 1 [470/938] \tLoss: 0.119458 \n",
            "Train Epoch: 1 [480/938] \tLoss: 0.114043 \n",
            "Train Epoch: 1 [490/938] \tLoss: 0.207373 \n",
            "Train Epoch: 1 [500/938] \tLoss: 0.220626 \n",
            "Train Epoch: 1 [510/938] \tLoss: 0.106288 \n",
            "Train Epoch: 1 [520/938] \tLoss: 0.156384 \n",
            "Train Epoch: 1 [530/938] \tLoss: 0.069590 \n",
            "Train Epoch: 1 [540/938] \tLoss: 0.072198 \n",
            "Train Epoch: 1 [550/938] \tLoss: 0.275626 \n",
            "Train Epoch: 1 [560/938] \tLoss: 0.149561 \n",
            "Train Epoch: 1 [570/938] \tLoss: 0.152869 \n",
            "Train Epoch: 1 [580/938] \tLoss: 0.161129 \n",
            "Train Epoch: 1 [590/938] \tLoss: 0.209467 \n",
            "Train Epoch: 1 [600/938] \tLoss: 0.120639 \n",
            "Train Epoch: 1 [610/938] \tLoss: 0.065040 \n",
            "Train Epoch: 1 [620/938] \tLoss: 0.157541 \n",
            "Train Epoch: 1 [630/938] \tLoss: 0.128069 \n",
            "Train Epoch: 1 [640/938] \tLoss: 0.159304 \n",
            "Train Epoch: 1 [650/938] \tLoss: 0.087456 \n",
            "Train Epoch: 1 [660/938] \tLoss: 0.072667 \n",
            "Train Epoch: 1 [670/938] \tLoss: 0.097638 \n",
            "Train Epoch: 1 [680/938] \tLoss: 0.136178 \n",
            "Train Epoch: 1 [690/938] \tLoss: 0.082834 \n",
            "Train Epoch: 1 [700/938] \tLoss: 0.144446 \n",
            "Train Epoch: 1 [710/938] \tLoss: 0.268523 \n",
            "Train Epoch: 1 [720/938] \tLoss: 0.137086 \n",
            "Train Epoch: 1 [730/938] \tLoss: 0.217969 \n",
            "Train Epoch: 1 [740/938] \tLoss: 0.209896 \n",
            "Train Epoch: 1 [750/938] \tLoss: 0.101948 \n",
            "Train Epoch: 1 [760/938] \tLoss: 0.063011 \n",
            "Train Epoch: 1 [770/938] \tLoss: 0.025842 \n",
            "Train Epoch: 1 [780/938] \tLoss: 0.092465 \n",
            "Train Epoch: 1 [790/938] \tLoss: 0.144936 \n",
            "Train Epoch: 1 [800/938] \tLoss: 0.248114 \n",
            "Train Epoch: 1 [810/938] \tLoss: 0.048921 \n",
            "Train Epoch: 1 [820/938] \tLoss: 0.021745 \n",
            "Train Epoch: 1 [830/938] \tLoss: 0.223788 \n",
            "Train Epoch: 1 [840/938] \tLoss: 0.065754 \n",
            "Train Epoch: 1 [850/938] \tLoss: 0.075148 \n",
            "Train Epoch: 1 [860/938] \tLoss: 0.066594 \n",
            "Train Epoch: 1 [870/938] \tLoss: 0.169974 \n",
            "Train Epoch: 1 [880/938] \tLoss: 0.102352 \n",
            "Train Epoch: 1 [890/938] \tLoss: 0.040365 \n",
            "Train Epoch: 1 [900/938] \tLoss: 0.111358 \n",
            "Train Epoch: 1 [910/938] \tLoss: 0.041395 \n",
            "Train Epoch: 1 [920/938] \tLoss: 0.009037 \n",
            "Train Epoch: 1 [930/938] \tLoss: 0.002087 \n",
            "\n",
            "Test set: Average loss: 505.9760, Accuracy: 9766/9920 (98%)\n",
            "\n",
            "Train Epoch: 2 [0/938] \tLoss: 0.114579 \n",
            "Train Epoch: 2 [10/938] \tLoss: 0.038243 \n",
            "Train Epoch: 2 [20/938] \tLoss: 0.111205 \n",
            "Train Epoch: 2 [30/938] \tLoss: 0.284746 \n",
            "Train Epoch: 2 [40/938] \tLoss: 0.162437 \n",
            "Train Epoch: 2 [50/938] \tLoss: 0.018190 \n",
            "Train Epoch: 2 [60/938] \tLoss: 0.034338 \n",
            "Train Epoch: 2 [70/938] \tLoss: 0.165303 \n",
            "Train Epoch: 2 [80/938] \tLoss: 0.188029 \n",
            "Train Epoch: 2 [90/938] \tLoss: 0.092103 \n",
            "Train Epoch: 2 [100/938] \tLoss: 0.151122 \n",
            "Train Epoch: 2 [110/938] \tLoss: 0.243147 \n",
            "Train Epoch: 2 [120/938] \tLoss: 0.097115 \n",
            "Train Epoch: 2 [130/938] \tLoss: 0.022766 \n",
            "Train Epoch: 2 [140/938] \tLoss: 0.129278 \n",
            "Train Epoch: 2 [150/938] \tLoss: 0.142394 \n",
            "Train Epoch: 2 [160/938] \tLoss: 0.313927 \n",
            "Train Epoch: 2 [170/938] \tLoss: 0.036457 \n",
            "Train Epoch: 2 [180/938] \tLoss: 0.162123 \n",
            "Train Epoch: 2 [190/938] \tLoss: 0.131828 \n",
            "Train Epoch: 2 [200/938] \tLoss: 0.089412 \n",
            "Train Epoch: 2 [210/938] \tLoss: 0.055945 \n",
            "Train Epoch: 2 [220/938] \tLoss: 0.021612 \n",
            "Train Epoch: 2 [230/938] \tLoss: 0.268223 \n",
            "Train Epoch: 2 [240/938] \tLoss: 0.032567 \n",
            "Train Epoch: 2 [250/938] \tLoss: 0.148088 \n",
            "Train Epoch: 2 [260/938] \tLoss: 0.134669 \n",
            "Train Epoch: 2 [270/938] \tLoss: 0.043288 \n",
            "Train Epoch: 2 [280/938] \tLoss: 0.035277 \n",
            "Train Epoch: 2 [290/938] \tLoss: 0.081075 \n",
            "Train Epoch: 2 [300/938] \tLoss: 0.059709 \n",
            "Train Epoch: 2 [310/938] \tLoss: 0.130339 \n",
            "Train Epoch: 2 [320/938] \tLoss: 0.035739 \n",
            "Train Epoch: 2 [330/938] \tLoss: 0.059416 \n",
            "Train Epoch: 2 [340/938] \tLoss: 0.054703 \n",
            "Train Epoch: 2 [350/938] \tLoss: 0.033394 \n",
            "Train Epoch: 2 [360/938] \tLoss: 0.121134 \n",
            "Train Epoch: 2 [370/938] \tLoss: 0.093872 \n",
            "Train Epoch: 2 [380/938] \tLoss: 0.024521 \n",
            "Train Epoch: 2 [390/938] \tLoss: 0.031439 \n",
            "Train Epoch: 2 [400/938] \tLoss: 0.036660 \n",
            "Train Epoch: 2 [410/938] \tLoss: 0.039803 \n",
            "Train Epoch: 2 [420/938] \tLoss: 0.183014 \n",
            "Train Epoch: 2 [430/938] \tLoss: 0.162018 \n",
            "Train Epoch: 2 [440/938] \tLoss: 0.139764 \n",
            "Train Epoch: 2 [450/938] \tLoss: 0.026148 \n",
            "Train Epoch: 2 [460/938] \tLoss: 0.018956 \n",
            "Train Epoch: 2 [470/938] \tLoss: 0.106560 \n",
            "Train Epoch: 2 [480/938] \tLoss: 0.040085 \n",
            "Train Epoch: 2 [490/938] \tLoss: 0.051184 \n",
            "Train Epoch: 2 [500/938] \tLoss: 0.175846 \n",
            "Train Epoch: 2 [510/938] \tLoss: 0.035003 \n",
            "Train Epoch: 2 [520/938] \tLoss: 0.067914 \n",
            "Train Epoch: 2 [530/938] \tLoss: 0.010365 \n",
            "Train Epoch: 2 [540/938] \tLoss: 0.107144 \n",
            "Train Epoch: 2 [550/938] \tLoss: 0.146030 \n",
            "Train Epoch: 2 [560/938] \tLoss: 0.087132 \n",
            "Train Epoch: 2 [570/938] \tLoss: 0.080437 \n",
            "Train Epoch: 2 [580/938] \tLoss: 0.080711 \n",
            "Train Epoch: 2 [590/938] \tLoss: 0.105544 \n",
            "Train Epoch: 2 [600/938] \tLoss: 0.161391 \n",
            "Train Epoch: 2 [610/938] \tLoss: 0.047966 \n",
            "Train Epoch: 2 [620/938] \tLoss: 0.064003 \n",
            "Train Epoch: 2 [630/938] \tLoss: 0.105276 \n",
            "Train Epoch: 2 [640/938] \tLoss: 0.166070 \n",
            "Train Epoch: 2 [650/938] \tLoss: 0.030904 \n",
            "Train Epoch: 2 [660/938] \tLoss: 0.022363 \n",
            "Train Epoch: 2 [670/938] \tLoss: 0.181755 \n",
            "Train Epoch: 2 [680/938] \tLoss: 0.132243 \n",
            "Train Epoch: 2 [690/938] \tLoss: 0.169052 \n",
            "Train Epoch: 2 [700/938] \tLoss: 0.090074 \n",
            "Train Epoch: 2 [710/938] \tLoss: 0.088605 \n",
            "Train Epoch: 2 [720/938] \tLoss: 0.203612 \n",
            "Train Epoch: 2 [730/938] \tLoss: 0.220298 \n",
            "Train Epoch: 2 [740/938] \tLoss: 0.081383 \n",
            "Train Epoch: 2 [750/938] \tLoss: 0.071463 \n",
            "Train Epoch: 2 [760/938] \tLoss: 0.009765 \n",
            "Train Epoch: 2 [770/938] \tLoss: 0.112550 \n",
            "Train Epoch: 2 [780/938] \tLoss: 0.047741 \n",
            "Train Epoch: 2 [790/938] \tLoss: 0.080361 \n",
            "Train Epoch: 2 [800/938] \tLoss: 0.104193 \n",
            "Train Epoch: 2 [810/938] \tLoss: 0.018628 \n",
            "Train Epoch: 2 [820/938] \tLoss: 0.010334 \n",
            "Train Epoch: 2 [830/938] \tLoss: 0.085848 \n",
            "Train Epoch: 2 [840/938] \tLoss: 0.044516 \n",
            "Train Epoch: 2 [850/938] \tLoss: 0.020910 \n",
            "Train Epoch: 2 [860/938] \tLoss: 0.031468 \n",
            "Train Epoch: 2 [870/938] \tLoss: 0.145036 \n",
            "Train Epoch: 2 [880/938] \tLoss: 0.060875 \n",
            "Train Epoch: 2 [890/938] \tLoss: 0.088534 \n",
            "Train Epoch: 2 [900/938] \tLoss: 0.076628 \n",
            "Train Epoch: 2 [910/938] \tLoss: 0.046447 \n",
            "Train Epoch: 2 [920/938] \tLoss: 0.002781 \n",
            "Train Epoch: 2 [930/938] \tLoss: 0.008280 \n",
            "\n",
            "Test set: Average loss: 425.6837, Accuracy: 9777/9920 (99%)\n",
            "\n"
          ],
          "name": "stdout"
        }
      ]
    },
    {
      "cell_type": "code",
      "metadata": {
        "colab": {
          "base_uri": "https://localhost:8080/",
          "height": 541
        },
        "id": "9W_tsGVHilP9",
        "outputId": "a0a6921f-269c-4974-b965-a851205ef858"
      },
      "source": [
        "fig = plt.figure()\n",
        "plt.plot(train_counter, train_losses, color='blue')\n",
        "# plt.scatter(test_counter, test_losses, color='red')\n",
        "plt.legend(['Train Loss', 'Test Loss'], loc='upper right')\n",
        "plt.xlabel('number of training examples seen')\n",
        "plt.ylabel('negative log likelihood loss')\n",
        "fig"
      ],
      "execution_count": null,
      "outputs": [
        {
          "output_type": "execute_result",
          "data": {
            "image/png": "[encoded data removed]",
            "text/plain": [
              "<Figure size 432x288 with 1 Axes>"
            ]
          },
          "metadata": {
            "tags": []
          },
          "execution_count": 35
        },
        {
          "output_type": "display_data",
          "data": {
            "image/png": "[encoded data removed]",
            "text/plain": [
              "<Figure size 432x288 with 1 Axes>"
            ]
          },
          "metadata": {
            "tags": [],
            "needs_background": "light"
          }
        }
      ]
    },
    {
      "cell_type": "code",
      "metadata": {
        "id": "u_f3YrJ4thlJ"
      },
      "source": [
        "with torch.no_grad():\n",
        "  output = net(example_data.to(device))\n",
        "\n"
      ],
      "execution_count": 22,
      "outputs": []
    },
    {
      "cell_type": "code",
      "metadata": {
        "colab": {
          "base_uri": "https://localhost:8080/"
        },
        "id": "v17xlKUAt_3A",
        "outputId": "72c1f04a-857f-4895-fb4f-7b241e54efb8"
      },
      "source": [
        "output.data.max(1, keepdim=True)[1][1].item()"
      ],
      "execution_count": null,
      "outputs": [
        {
          "output_type": "execute_result",
          "data": {
            "text/plain": [
              "2"
            ]
          },
          "metadata": {
            "tags": []
          },
          "execution_count": 53
        }
      ]
    },
    {
      "cell_type": "code",
      "metadata": {
        "colab": {
          "base_uri": "https://localhost:8080/",
          "height": 551
        },
        "id": "WNR6LYz7uUGB",
        "outputId": "53aa0a97-0583-40ab-b17c-be29cc1c4887"
      },
      "source": [
        "import matplotlib.pyplot as plt\n",
        "\n",
        "\n",
        "fig = plt.figure()\n",
        "for i in range(6):\n",
        "  plt.subplot(2,3,i+1)\n",
        "  plt.tight_layout()\n",
        "  plt.imshow(example_data[i][0], cmap='gray', interpolation='none')\n",
        "  plt.title(\"Prediction: {}\".format(\n",
        "    output.to(device).data.max(1, keepdim=True)[1][i].item()))\n",
        "  plt.xticks([])\n",
        "  plt.yticks([])\n",
        "fig"
      ],
      "execution_count": 23,
      "outputs": [
        {
          "output_type": "execute_result",
          "data": {
            "image/png": "[encoded data removed]",
            "text/plain": [
              "<Figure size 432x288 with 6 Axes>"
            ]
          },
          "metadata": {
            "tags": []
          },
          "execution_count": 23
        },
        {
          "output_type": "display_data",
          "data": {
            "image/png": "[encoded data removed]",
            "text/plain": [
              "<Figure size 432x288 with 6 Axes>"
            ]
          },
          "metadata": {
            "tags": []
          }
        }
      ]
    },
    {
      "cell_type": "code",
      "metadata": {
        "id": "ej1FI08l85q_"
      },
      "source": [
        ""
      ],
      "execution_count": null,
      "outputs": []
    }
  ]
}